{
 "cells": [
  {
   "cell_type": "markdown",
   "metadata": {},
   "source": [
    "### **Importing Libraries**"
   ]
  },
  {
   "cell_type": "code",
   "execution_count": 1,
   "metadata": {},
   "outputs": [
    {
     "name": "stdout",
     "output_type": "stream",
     "text": [
      "cuda\n"
     ]
    }
   ],
   "source": [
    "import numpy as np\n",
    "import matplotlib.pyplot as plt\n",
    "import cv2\n",
    "import pandas as pd\n",
    "import torch\n",
    "import torch.nn as nn\n",
    "import torch.optim as optim\n",
    "import torch.nn.functional as F\n",
    "from torch.utils.data import DataLoader, TensorDataset, ConcatDataset\n",
    "from torch.utils.data import Dataset\n",
    "import torchvision.models as models\n",
    "from torchvision import transforms\n",
    "import torchvision\n",
    "from tqdm import tqdm\n",
    "from sklearn.model_selection import train_test_split\n",
    "from torchmetrics.segmentation import MeanIoU\n",
    "import torchvision.transforms as T\n",
    "from PIL import Image\n",
    "import math\n",
    "\n",
    "import os\n",
    "os.environ['CUDA_LAUNCH_BLOCKING'] = '1'\n",
    "\n",
    "device = torch.device('cuda' if torch.cuda.is_available() else 'cpu')\n",
    "print(device)"
   ]
  },
  {
   "cell_type": "markdown",
   "metadata": {},
   "source": [
    "### **Dataset**"
   ]
  },
  {
   "cell_type": "markdown",
   "metadata": {},
   "source": [
    "#### **Helper Functions**"
   ]
  },
  {
   "cell_type": "code",
   "execution_count": 2,
   "metadata": {},
   "outputs": [],
   "source": [
    "transform_base = T.Compose([\n",
    "    T.Resize((256, 256)),\n",
    "    T.ToTensor(),\n",
    "    T.Normalize(mean=[0.485, 0.456, 0.406], std=[0.229, 0.224, 0.225]) \n",
    "])\n",
    "\n",
    "transform_color = T.Compose([\n",
    "    T.Resize((256, 256)),\n",
    "    T.ColorJitter(brightness=0.3, contrast=0.2, saturation=0.2, hue=0.1),\n",
    "    T.ToTensor(),\n",
    "    T.Normalize(mean=[0.485, 0.456, 0.406], std=[0.229, 0.224, 0.225])\n",
    "])\n",
    "\n",
    "transform_affine = T.Compose([\n",
    "    T.Resize((256, 256)),\n",
    "    T.RandomAffine(degrees=0, translate=(0.2, 0.2), scale=(0.8, 1.2), shear=0.2),\n",
    "    T.ToTensor(),\n",
    "    T.Normalize(mean=[0.485, 0.456, 0.406], std=[0.229, 0.224, 0.225])\n",
    "])\n",
    "\n",
    "transform_val = T.Compose([\n",
    "    T.Resize((256, 256)),\n",
    "    T.ToTensor(),\n",
    "    T.Normalize(mean=[0.485, 0.456, 0.406], std=[0.229, 0.224, 0.225])\n",
    "])\n",
    "\n",
    "def angle_to_vector(theta_deg):\n",
    "    theta_rad = math.radians(theta_deg)\n",
    "    return torch.tensor([math.cos(theta_rad), math.sin(theta_rad)], dtype=torch.float32)\n",
    "\n",
    "def vector_to_angle(vector):\n",
    "    cos_theta, sin_theta = vector\n",
    "    angle_rad = torch.atan2(sin_theta, cos_theta)\n",
    "    angle_deg = angle_rad * (180 / math.pi)\n",
    "    # Ensure angle is in [0, 360) range\n",
    "    return (angle_deg + 360) % 360"
   ]
  },
  {
   "cell_type": "markdown",
   "metadata": {},
   "source": [
    "#### **Dataset Class**"
   ]
  },
  {
   "cell_type": "code",
   "execution_count": 3,
   "metadata": {},
   "outputs": [],
   "source": [
    "class AngleDataset(Dataset):\n",
    "    def __init__(self, image_dir, labels_df, transform=None):\n",
    "        self.image_dir = image_dir\n",
    "        self.labels_df = labels_df\n",
    "        self.transform = transform\n",
    "\n",
    "    def __len__(self):\n",
    "        return len(self.labels_df)\n",
    "\n",
    "    def __getitem__(self, idx):\n",
    "        row = self.labels_df.iloc[idx]\n",
    "        img_path = os.path.join(self.image_dir, row['filename'])\n",
    "        image = Image.open(img_path).convert(\"RGB\")\n",
    "\n",
    "        if self.transform:\n",
    "            image = self.transform(image)\n",
    "\n",
    "        angle = float(row['angle'])\n",
    "        angle_vector = angle_to_vector(angle)  # (cosθ, sinθ)\n",
    "        return image, angle_vector"
   ]
  },
  {
   "cell_type": "markdown",
   "metadata": {},
   "source": [
    "#### **Extend Dataset**"
   ]
  },
  {
   "cell_type": "code",
   "execution_count": 4,
   "metadata": {},
   "outputs": [],
   "source": [
    "def create_extended_dataset(image_dir, labels_df):\n",
    "    # Original dataset\n",
    "    original_dataset = AngleDataset(\n",
    "        image_dir=image_dir,\n",
    "        labels_df=labels_df,\n",
    "        transform=transform_base\n",
    "    )\n",
    "    \n",
    "    # Color jitter augmented dataset\n",
    "    color_dataset = AngleDataset(\n",
    "        image_dir=image_dir,\n",
    "        labels_df=labels_df,\n",
    "        transform=transform_color\n",
    "    )\n",
    "    \n",
    "    # # Affine transform augmented dataset\n",
    "    affine_dataset = AngleDataset(\n",
    "        image_dir=image_dir,\n",
    "        labels_df=labels_df,\n",
    "        transform=transform_affine\n",
    "    )\n",
    "    \n",
    "    extended_dataset = ConcatDataset([original_dataset, color_dataset, affine_dataset])\n",
    "    \n",
    "    return extended_dataset"
   ]
  },
  {
   "cell_type": "markdown",
   "metadata": {},
   "source": [
    "#### **Training**"
   ]
  },
  {
   "cell_type": "code",
   "execution_count": 5,
   "metadata": {},
   "outputs": [],
   "source": [
    "image_dir_train = \"Dataset/Train/images_train\"\n",
    "labels_path_train = \"Dataset/Train/labels_train.csv\"\n",
    "\n",
    "labels_df = pd.read_csv(labels_path_train)\n",
    "\n",
    "train_dataset = create_extended_dataset(image_dir_train, labels_df)\n",
    "train_loader = DataLoader(train_dataset, batch_size=16, shuffle=True)"
   ]
  },
  {
   "cell_type": "markdown",
   "metadata": {},
   "source": [
    "#### **Validation**"
   ]
  },
  {
   "cell_type": "code",
   "execution_count": 6,
   "metadata": {},
   "outputs": [],
   "source": [
    "images_dir_val = \"Dataset/Val/images_val\"\n",
    "labels_path_val = \"Dataset/Val/labels_val.csv\"\n",
    "labels_df_val = pd.read_csv(labels_path_val)\n",
    "\n",
    "val_dataset = AngleDataset(images_dir_val, labels_df_val, transform_val)\n",
    "val_loader = DataLoader(val_dataset, batch_size=16, shuffle=False)"
   ]
  },
  {
   "cell_type": "markdown",
   "metadata": {},
   "source": [
    "### **Model**"
   ]
  },
  {
   "cell_type": "markdown",
   "metadata": {},
   "source": [
    "#### **Model Implementation**"
   ]
  },
  {
   "cell_type": "code",
   "execution_count": 7,
   "metadata": {},
   "outputs": [],
   "source": [
    "class ResNetAngleRegressor(nn.Module):\n",
    "    def __init__(self, pretrained=True, dropout_rate=0.3):\n",
    "        super().__init__()\n",
    "        base_model = models.resnet50(weights='DEFAULT' if pretrained else None)\n",
    "        num_features = base_model.fc.in_features\n",
    "        # Remove the final fully connected layer\n",
    "        self.features = nn.Sequential(*list(base_model.children())[:-1])\n",
    "        \n",
    "        # New regression head with dropout and batch normalization\n",
    "        self.regressor = nn.Sequential(\n",
    "            nn.Flatten(),\n",
    "            nn.Linear(num_features, 1024),\n",
    "            nn.BatchNorm1d(1024), \n",
    "            nn.ReLU(),\n",
    "            nn.Dropout(dropout_rate),\n",
    "            \n",
    "            # nn.Linear(512, 256),\n",
    "            # nn.BatchNorm1d(256),\n",
    "            # nn.ReLU(),\n",
    "            # nn.Dropout(dropout_rate),\n",
    "            \n",
    "            nn.Linear(1024, 2)\n",
    "        )\n",
    "\n",
    "    def forward(self, x):\n",
    "        x = self.features(x)\n",
    "        x = self.regressor(x)\n",
    "        # Normalize output to enforce unit vector\n",
    "        return x / torch.norm(x, dim=1, keepdim=True)"
   ]
  },
  {
   "cell_type": "markdown",
   "metadata": {},
   "source": [
    "#### **Loss Function**"
   ]
  },
  {
   "cell_type": "code",
   "execution_count": 8,
   "metadata": {},
   "outputs": [],
   "source": [
    "class AngleLoss(nn.Module):\n",
    "    def __init__(self, reduction='mean'):\n",
    "        super().__init__()\n",
    "        self.reduction = reduction\n",
    "        \n",
    "    def forward(self, y_pred, y_true):\n",
    "\n",
    "        y_pred_normalized = y_pred / torch.norm(y_pred, dim=1, keepdim=True)\n",
    "        y_true_normalized = y_true / torch.norm(y_true, dim=1, keepdim=True)\n",
    "        \n",
    "        cos_angle_diff = torch.sum(y_pred_normalized * y_true_normalized, dim=1)\n",
    "        \n",
    "        cos_angle_diff = torch.clamp(cos_angle_diff, -1.0 + 1e-7, 1.0 - 1e-7)\n",
    "        \n",
    "        angle_loss = 1.0 - cos_angle_diff\n",
    "        \n",
    "        if self.reduction == 'mean':\n",
    "            return angle_loss.mean()\n",
    "        elif self.reduction == 'sum':\n",
    "            return angle_loss.sum()\n",
    "        else:\n",
    "            return angle_loss"
   ]
  },
  {
   "cell_type": "markdown",
   "metadata": {},
   "source": [
    "### **Training**"
   ]
  },
  {
   "cell_type": "code",
   "execution_count": 9,
   "metadata": {},
   "outputs": [],
   "source": [
    "def train_regression_model(model, train_loader, val_loader, optimizer, num_epochs, device, loss_fn):\n",
    "    model.to(device)\n",
    "    best_val_loss = float('inf')\n",
    "\n",
    "    for epoch in range(num_epochs):\n",
    "        model.train()\n",
    "        train_loss = 0.0\n",
    "        pbar = tqdm(train_loader, desc=f\"Epoch {epoch+1}/{num_epochs} [Train]\")\n",
    "\n",
    "        for images, targets in pbar:\n",
    "            images = images.to(device)\n",
    "            targets = targets.to(device)  # shape: (batch_size, 2)\n",
    "\n",
    "            preds = model(images)  # output shape: (batch_size, 2)\n",
    "            loss = loss_fn(preds, targets)\n",
    "\n",
    "            optimizer.zero_grad()\n",
    "            loss.backward()\n",
    "            optimizer.step()\n",
    "\n",
    "            train_loss += loss.item() * images.size(0)\n",
    "            pbar.set_postfix(loss=loss.item())\n",
    "\n",
    "        avg_train_loss = train_loss / len(train_loader.dataset)\n",
    "\n",
    "        # Validation loop\n",
    "        model.eval()\n",
    "        val_loss = 0.0\n",
    "        with torch.no_grad():\n",
    "            pbar = tqdm(val_loader, desc=f\"Epoch {epoch+1}/{num_epochs} [Val]\")\n",
    "            for images, targets in pbar:\n",
    "                images = images.to(device)\n",
    "                targets = targets.to(device)\n",
    "\n",
    "                preds = model(images)\n",
    "                loss = loss_fn(preds, targets)\n",
    "\n",
    "                val_loss += loss.item() * images.size(0)\n",
    "                pbar.set_postfix(loss=loss.item())\n",
    "\n",
    "\n",
    "        avg_val_loss = val_loss / len(val_loader.dataset)\n",
    "        if avg_val_loss < best_val_loss:\n",
    "            best_val_loss = avg_val_loss\n",
    "            torch.save(model.state_dict(), 'best_model.pth')\n",
    "\n",
    "        print(f\"Epoch {epoch+1}: Train MSE = {avg_train_loss:.4f}, Val MSE = {avg_val_loss:.4f}\")"
   ]
  },
  {
   "cell_type": "code",
   "execution_count": 10,
   "metadata": {},
   "outputs": [],
   "source": [
    "def evaluate_model(model, test_loader, device):\n",
    "    model.eval()\n",
    "    predictions = []\n",
    "    ground_truths = []\n",
    "    angle_errors = []\n",
    "    \n",
    "    with torch.no_grad():\n",
    "        for inputs, labels in test_loader:\n",
    "            inputs, labels = inputs.to(device), labels.to(device)\n",
    "            outputs = model(inputs)\n",
    "            \n",
    "            for i in range(outputs.size(0)):\n",
    "                true_angle = vector_to_angle(labels[i]).item()\n",
    "                pred_angle = vector_to_angle(outputs[i]).item()\n",
    "\n",
    "                # Normalize angles to [0, 360)\n",
    "                true_angle = true_angle % 360\n",
    "                pred_angle = pred_angle % 360\n",
    "                \n",
    "                angle_diff = abs(true_angle - pred_angle)\n",
    "                angle_diff = min(angle_diff, 360 - angle_diff)\n",
    "                \n",
    "                predictions.append(pred_angle)\n",
    "                ground_truths.append(true_angle)\n",
    "                angle_errors.append(angle_diff)\n",
    "    \n",
    "    mean_angle_error = sum(angle_errors) / len(angle_errors)\n",
    "    median_angle_error = sorted(angle_errors)[len(angle_errors) // 2]\n",
    "    \n",
    "    mse = 0\n",
    "    for i in range(len(predictions)):\n",
    "        pred_rad = math.radians(predictions[i])\n",
    "        true_rad = math.radians(ground_truths[i])\n",
    "        \n",
    "        pred_sin, pred_cos = math.sin(pred_rad), math.cos(pred_rad)\n",
    "        true_sin, true_cos = math.sin(true_rad), math.cos(true_rad)\n",
    "        \n",
    "        mse += (pred_sin - true_sin)**2 + (pred_cos - true_cos)**2\n",
    "    \n",
    "    mse /= len(predictions)\n",
    "    \n",
    "    results = {\n",
    "        'mean_angle_error': mean_angle_error,\n",
    "        'median_angle_error': median_angle_error,\n",
    "        'mse_sin_cos': mse,\n",
    "        'predictions': predictions,\n",
    "        'ground_truths': ground_truths,\n",
    "        'angle_errors': angle_errors\n",
    "    }\n",
    "    return results"
   ]
  },
  {
   "cell_type": "code",
   "execution_count": 11,
   "metadata": {},
   "outputs": [
    {
     "name": "stderr",
     "output_type": "stream",
     "text": [
      "Epoch 1/50 [Train]: 100%|██████████| 1227/1227 [06:10<00:00,  3.31it/s, loss=0.789]\n",
      "Epoch 1/50 [Val]: 100%|██████████| 24/24 [00:02<00:00,  8.18it/s, loss=0.00592]\n"
     ]
    },
    {
     "name": "stdout",
     "output_type": "stream",
     "text": [
      "Epoch 1: Train MSE = 0.8538, Val MSE = 0.7338\n"
     ]
    },
    {
     "name": "stderr",
     "output_type": "stream",
     "text": [
      "Epoch 2/50 [Train]: 100%|██████████| 1227/1227 [06:14<00:00,  3.28it/s, loss=0.493]\n",
      "Epoch 2/50 [Val]: 100%|██████████| 24/24 [00:02<00:00,  8.17it/s, loss=0.0864]\n"
     ]
    },
    {
     "name": "stdout",
     "output_type": "stream",
     "text": [
      "Epoch 2: Train MSE = 0.7043, Val MSE = 0.6471\n"
     ]
    },
    {
     "name": "stderr",
     "output_type": "stream",
     "text": [
      "Epoch 3/50 [Train]: 100%|██████████| 1227/1227 [06:14<00:00,  3.28it/s, loss=0.662]\n",
      "Epoch 3/50 [Val]: 100%|██████████| 24/24 [00:02<00:00,  8.31it/s, loss=0.0139]\n"
     ]
    },
    {
     "name": "stdout",
     "output_type": "stream",
     "text": [
      "Epoch 3: Train MSE = 0.6221, Val MSE = 0.6171\n"
     ]
    },
    {
     "name": "stderr",
     "output_type": "stream",
     "text": [
      "Epoch 4/50 [Train]: 100%|██████████| 1227/1227 [06:14<00:00,  3.28it/s, loss=0.452]\n",
      "Epoch 4/50 [Val]: 100%|██████████| 24/24 [00:02<00:00,  8.33it/s, loss=2.51e-5]\n"
     ]
    },
    {
     "name": "stdout",
     "output_type": "stream",
     "text": [
      "Epoch 4: Train MSE = 0.5430, Val MSE = 0.5472\n"
     ]
    },
    {
     "name": "stderr",
     "output_type": "stream",
     "text": [
      "Epoch 5/50 [Train]: 100%|██████████| 1227/1227 [06:14<00:00,  3.28it/s, loss=0.249]\n",
      "Epoch 5/50 [Val]: 100%|██████████| 24/24 [00:02<00:00,  8.27it/s, loss=0.101]\n"
     ]
    },
    {
     "name": "stdout",
     "output_type": "stream",
     "text": [
      "Epoch 5: Train MSE = 0.4775, Val MSE = 0.5363\n"
     ]
    },
    {
     "name": "stderr",
     "output_type": "stream",
     "text": [
      "Epoch 6/50 [Train]: 100%|██████████| 1227/1227 [06:14<00:00,  3.28it/s, loss=0.358] \n",
      "Epoch 6/50 [Val]: 100%|██████████| 24/24 [00:02<00:00,  8.28it/s, loss=0.00935]\n"
     ]
    },
    {
     "name": "stdout",
     "output_type": "stream",
     "text": [
      "Epoch 6: Train MSE = 0.4343, Val MSE = 0.4881\n"
     ]
    },
    {
     "name": "stderr",
     "output_type": "stream",
     "text": [
      "Epoch 7/50 [Train]: 100%|██████████| 1227/1227 [06:14<00:00,  3.28it/s, loss=0.434] \n",
      "Epoch 7/50 [Val]: 100%|██████████| 24/24 [00:02<00:00,  8.33it/s, loss=0.0242]\n"
     ]
    },
    {
     "name": "stdout",
     "output_type": "stream",
     "text": [
      "Epoch 7: Train MSE = 0.3754, Val MSE = 0.4745\n"
     ]
    },
    {
     "name": "stderr",
     "output_type": "stream",
     "text": [
      "Epoch 8/50 [Train]: 100%|██████████| 1227/1227 [06:13<00:00,  3.28it/s, loss=0.674] \n",
      "Epoch 8/50 [Val]: 100%|██████████| 24/24 [00:02<00:00,  8.29it/s, loss=0.0299]\n"
     ]
    },
    {
     "name": "stdout",
     "output_type": "stream",
     "text": [
      "Epoch 8: Train MSE = 0.3342, Val MSE = 0.4287\n"
     ]
    },
    {
     "name": "stderr",
     "output_type": "stream",
     "text": [
      "Epoch 9/50 [Train]: 100%|██████████| 1227/1227 [06:14<00:00,  3.28it/s, loss=0.662] \n",
      "Epoch 9/50 [Val]: 100%|██████████| 24/24 [00:02<00:00,  8.18it/s, loss=0.00287]\n"
     ]
    },
    {
     "name": "stdout",
     "output_type": "stream",
     "text": [
      "Epoch 9: Train MSE = 0.2979, Val MSE = 0.4392\n"
     ]
    },
    {
     "name": "stderr",
     "output_type": "stream",
     "text": [
      "Epoch 10/50 [Train]: 100%|██████████| 1227/1227 [06:17<00:00,  3.25it/s, loss=0.292] \n",
      "Epoch 10/50 [Val]: 100%|██████████| 24/24 [00:02<00:00,  8.14it/s, loss=0.00881]\n"
     ]
    },
    {
     "name": "stdout",
     "output_type": "stream",
     "text": [
      "Epoch 10: Train MSE = 0.2687, Val MSE = 0.3940\n"
     ]
    },
    {
     "name": "stderr",
     "output_type": "stream",
     "text": [
      "Epoch 11/50 [Train]: 100%|██████████| 1227/1227 [06:17<00:00,  3.25it/s, loss=0.33]  \n",
      "Epoch 11/50 [Val]: 100%|██████████| 24/24 [00:02<00:00,  8.11it/s, loss=0.00374]\n"
     ]
    },
    {
     "name": "stdout",
     "output_type": "stream",
     "text": [
      "Epoch 11: Train MSE = 0.2418, Val MSE = 0.4035\n"
     ]
    },
    {
     "name": "stderr",
     "output_type": "stream",
     "text": [
      "Epoch 12/50 [Train]: 100%|██████████| 1227/1227 [06:17<00:00,  3.25it/s, loss=0.175] \n",
      "Epoch 12/50 [Val]: 100%|██████████| 24/24 [00:02<00:00,  8.18it/s, loss=0.0107]\n"
     ]
    },
    {
     "name": "stdout",
     "output_type": "stream",
     "text": [
      "Epoch 12: Train MSE = 0.2149, Val MSE = 0.3728\n"
     ]
    },
    {
     "name": "stderr",
     "output_type": "stream",
     "text": [
      "Epoch 13/50 [Train]: 100%|██████████| 1227/1227 [06:18<00:00,  3.24it/s, loss=0.176] \n",
      "Epoch 13/50 [Val]: 100%|██████████| 24/24 [00:02<00:00,  8.12it/s, loss=3.85e-6]\n"
     ]
    },
    {
     "name": "stdout",
     "output_type": "stream",
     "text": [
      "Epoch 13: Train MSE = 0.1987, Val MSE = 0.3574\n"
     ]
    },
    {
     "name": "stderr",
     "output_type": "stream",
     "text": [
      "Epoch 14/50 [Train]: 100%|██████████| 1227/1227 [06:18<00:00,  3.24it/s, loss=0.277] \n",
      "Epoch 14/50 [Val]: 100%|██████████| 24/24 [00:02<00:00,  8.15it/s, loss=0.0143]\n"
     ]
    },
    {
     "name": "stdout",
     "output_type": "stream",
     "text": [
      "Epoch 14: Train MSE = 0.1809, Val MSE = 0.3668\n"
     ]
    },
    {
     "name": "stderr",
     "output_type": "stream",
     "text": [
      "Epoch 15/50 [Train]: 100%|██████████| 1227/1227 [06:18<00:00,  3.25it/s, loss=0.195] \n",
      "Epoch 15/50 [Val]: 100%|██████████| 24/24 [00:02<00:00,  8.18it/s, loss=0.0163]\n"
     ]
    },
    {
     "name": "stdout",
     "output_type": "stream",
     "text": [
      "Epoch 15: Train MSE = 0.1665, Val MSE = 0.3676\n"
     ]
    },
    {
     "name": "stderr",
     "output_type": "stream",
     "text": [
      "Epoch 16/50 [Train]: 100%|██████████| 1227/1227 [06:17<00:00,  3.25it/s, loss=0.111] \n",
      "Epoch 16/50 [Val]: 100%|██████████| 24/24 [00:02<00:00,  8.15it/s, loss=0.0306]\n"
     ]
    },
    {
     "name": "stdout",
     "output_type": "stream",
     "text": [
      "Epoch 16: Train MSE = 0.1506, Val MSE = 0.3525\n"
     ]
    },
    {
     "name": "stderr",
     "output_type": "stream",
     "text": [
      "Epoch 17/50 [Train]: 100%|██████████| 1227/1227 [06:18<00:00,  3.24it/s, loss=0.223] \n",
      "Epoch 17/50 [Val]: 100%|██████████| 24/24 [00:02<00:00,  8.17it/s, loss=0.0035]\n"
     ]
    },
    {
     "name": "stdout",
     "output_type": "stream",
     "text": [
      "Epoch 17: Train MSE = 0.1412, Val MSE = 0.3694\n"
     ]
    },
    {
     "name": "stderr",
     "output_type": "stream",
     "text": [
      "Epoch 18/50 [Train]: 100%|██████████| 1227/1227 [06:17<00:00,  3.25it/s, loss=0.0652]\n",
      "Epoch 18/50 [Val]: 100%|██████████| 24/24 [00:02<00:00,  8.21it/s, loss=0.0017]\n"
     ]
    },
    {
     "name": "stdout",
     "output_type": "stream",
     "text": [
      "Epoch 18: Train MSE = 0.1325, Val MSE = 0.3547\n"
     ]
    },
    {
     "name": "stderr",
     "output_type": "stream",
     "text": [
      "Epoch 19/50 [Train]: 100%|██████████| 1227/1227 [06:17<00:00,  3.25it/s, loss=0.0427]\n",
      "Epoch 19/50 [Val]: 100%|██████████| 24/24 [00:02<00:00,  8.17it/s, loss=0.0305]\n"
     ]
    },
    {
     "name": "stdout",
     "output_type": "stream",
     "text": [
      "Epoch 19: Train MSE = 0.1210, Val MSE = 0.3521\n"
     ]
    },
    {
     "name": "stderr",
     "output_type": "stream",
     "text": [
      "Epoch 20/50 [Train]: 100%|██████████| 1227/1227 [06:17<00:00,  3.25it/s, loss=0.266] \n",
      "Epoch 20/50 [Val]: 100%|██████████| 24/24 [00:02<00:00,  8.11it/s, loss=0.000938]\n"
     ]
    },
    {
     "name": "stdout",
     "output_type": "stream",
     "text": [
      "Epoch 20: Train MSE = 0.1176, Val MSE = 0.3268\n"
     ]
    },
    {
     "name": "stderr",
     "output_type": "stream",
     "text": [
      "Epoch 21/50 [Train]: 100%|██████████| 1227/1227 [06:17<00:00,  3.25it/s, loss=0.142] \n",
      "Epoch 21/50 [Val]: 100%|██████████| 24/24 [00:02<00:00,  8.16it/s, loss=0.0021]\n"
     ]
    },
    {
     "name": "stdout",
     "output_type": "stream",
     "text": [
      "Epoch 21: Train MSE = 0.1080, Val MSE = 0.3348\n"
     ]
    },
    {
     "name": "stderr",
     "output_type": "stream",
     "text": [
      "Epoch 22/50 [Train]: 100%|██████████| 1227/1227 [06:17<00:00,  3.25it/s, loss=0.224] \n",
      "Epoch 22/50 [Val]: 100%|██████████| 24/24 [00:02<00:00,  8.15it/s, loss=3.97e-6]\n"
     ]
    },
    {
     "name": "stdout",
     "output_type": "stream",
     "text": [
      "Epoch 22: Train MSE = 0.1028, Val MSE = 0.3093\n"
     ]
    },
    {
     "name": "stderr",
     "output_type": "stream",
     "text": [
      "Epoch 23/50 [Train]: 100%|██████████| 1227/1227 [06:16<00:00,  3.26it/s, loss=0.12]  \n",
      "Epoch 23/50 [Val]: 100%|██████████| 24/24 [00:02<00:00,  8.17it/s, loss=0.00947]\n"
     ]
    },
    {
     "name": "stdout",
     "output_type": "stream",
     "text": [
      "Epoch 23: Train MSE = 0.0963, Val MSE = 0.3081\n"
     ]
    },
    {
     "name": "stderr",
     "output_type": "stream",
     "text": [
      "Epoch 24/50 [Train]: 100%|██████████| 1227/1227 [06:16<00:00,  3.26it/s, loss=0.142] \n",
      "Epoch 24/50 [Val]: 100%|██████████| 24/24 [00:02<00:00,  8.26it/s, loss=0.0325]\n"
     ]
    },
    {
     "name": "stdout",
     "output_type": "stream",
     "text": [
      "Epoch 24: Train MSE = 0.0921, Val MSE = 0.2994\n"
     ]
    },
    {
     "name": "stderr",
     "output_type": "stream",
     "text": [
      "Epoch 25/50 [Train]: 100%|██████████| 1227/1227 [06:15<00:00,  3.26it/s, loss=0.033] \n",
      "Epoch 25/50 [Val]: 100%|██████████| 24/24 [00:02<00:00,  8.22it/s, loss=0.000105]\n"
     ]
    },
    {
     "name": "stdout",
     "output_type": "stream",
     "text": [
      "Epoch 25: Train MSE = 0.0891, Val MSE = 0.3023\n"
     ]
    },
    {
     "name": "stderr",
     "output_type": "stream",
     "text": [
      "Epoch 26/50 [Train]: 100%|██████████| 1227/1227 [06:15<00:00,  3.27it/s, loss=0.036] \n",
      "Epoch 26/50 [Val]: 100%|██████████| 24/24 [00:02<00:00,  8.26it/s, loss=0.00586]\n"
     ]
    },
    {
     "name": "stdout",
     "output_type": "stream",
     "text": [
      "Epoch 26: Train MSE = 0.0881, Val MSE = 0.2962\n"
     ]
    },
    {
     "name": "stderr",
     "output_type": "stream",
     "text": [
      "Epoch 27/50 [Train]: 100%|██████████| 1227/1227 [06:13<00:00,  3.28it/s, loss=0.0768]\n",
      "Epoch 27/50 [Val]: 100%|██████████| 24/24 [00:02<00:00,  8.27it/s, loss=0.00305]\n"
     ]
    },
    {
     "name": "stdout",
     "output_type": "stream",
     "text": [
      "Epoch 27: Train MSE = 0.0848, Val MSE = 0.2808\n"
     ]
    },
    {
     "name": "stderr",
     "output_type": "stream",
     "text": [
      "Epoch 28/50 [Train]: 100%|██████████| 1227/1227 [06:14<00:00,  3.28it/s, loss=0.383] \n",
      "Epoch 28/50 [Val]: 100%|██████████| 24/24 [00:02<00:00,  8.31it/s, loss=0.0024]\n"
     ]
    },
    {
     "name": "stdout",
     "output_type": "stream",
     "text": [
      "Epoch 28: Train MSE = 0.0810, Val MSE = 0.2921\n"
     ]
    },
    {
     "name": "stderr",
     "output_type": "stream",
     "text": [
      "Epoch 29/50 [Train]: 100%|██████████| 1227/1227 [06:13<00:00,  3.28it/s, loss=0.0786] \n",
      "Epoch 29/50 [Val]: 100%|██████████| 24/24 [00:02<00:00,  8.31it/s, loss=0.0017]\n"
     ]
    },
    {
     "name": "stdout",
     "output_type": "stream",
     "text": [
      "Epoch 29: Train MSE = 0.0778, Val MSE = 0.2857\n"
     ]
    },
    {
     "name": "stderr",
     "output_type": "stream",
     "text": [
      "Epoch 30/50 [Train]: 100%|██████████| 1227/1227 [06:14<00:00,  3.28it/s, loss=0.0496] \n",
      "Epoch 30/50 [Val]: 100%|██████████| 24/24 [00:02<00:00,  8.26it/s, loss=0.00164]\n"
     ]
    },
    {
     "name": "stdout",
     "output_type": "stream",
     "text": [
      "Epoch 30: Train MSE = 0.0748, Val MSE = 0.2940\n"
     ]
    },
    {
     "name": "stderr",
     "output_type": "stream",
     "text": [
      "Epoch 31/50 [Train]: 100%|██████████| 1227/1227 [06:13<00:00,  3.28it/s, loss=0.0738]\n",
      "Epoch 31/50 [Val]: 100%|██████████| 24/24 [00:02<00:00,  8.34it/s, loss=3.47e-5]\n"
     ]
    },
    {
     "name": "stdout",
     "output_type": "stream",
     "text": [
      "Epoch 31: Train MSE = 0.0693, Val MSE = 0.2901\n"
     ]
    },
    {
     "name": "stderr",
     "output_type": "stream",
     "text": [
      "Epoch 32/50 [Train]: 100%|██████████| 1227/1227 [06:13<00:00,  3.28it/s, loss=0.0762] \n",
      "Epoch 32/50 [Val]: 100%|██████████| 24/24 [00:02<00:00,  8.27it/s, loss=0.0016]\n"
     ]
    },
    {
     "name": "stdout",
     "output_type": "stream",
     "text": [
      "Epoch 32: Train MSE = 0.0673, Val MSE = 0.2703\n"
     ]
    },
    {
     "name": "stderr",
     "output_type": "stream",
     "text": [
      "Epoch 33/50 [Train]: 100%|██████████| 1227/1227 [06:14<00:00,  3.28it/s, loss=0.045] \n",
      "Epoch 33/50 [Val]: 100%|██████████| 24/24 [00:02<00:00,  8.24it/s, loss=0.00183]\n"
     ]
    },
    {
     "name": "stdout",
     "output_type": "stream",
     "text": [
      "Epoch 33: Train MSE = 0.0686, Val MSE = 0.2714\n"
     ]
    },
    {
     "name": "stderr",
     "output_type": "stream",
     "text": [
      "Epoch 34/50 [Train]: 100%|██████████| 1227/1227 [06:16<00:00,  3.26it/s, loss=0.104] \n",
      "Epoch 34/50 [Val]: 100%|██████████| 24/24 [00:02<00:00,  8.22it/s, loss=0.0304]\n"
     ]
    },
    {
     "name": "stdout",
     "output_type": "stream",
     "text": [
      "Epoch 34: Train MSE = 0.0649, Val MSE = 0.2643\n"
     ]
    },
    {
     "name": "stderr",
     "output_type": "stream",
     "text": [
      "Epoch 35/50 [Train]: 100%|██████████| 1227/1227 [06:16<00:00,  3.26it/s, loss=0.0908]\n",
      "Epoch 35/50 [Val]: 100%|██████████| 24/24 [00:02<00:00,  8.23it/s, loss=0.00357]\n"
     ]
    },
    {
     "name": "stdout",
     "output_type": "stream",
     "text": [
      "Epoch 35: Train MSE = 0.0632, Val MSE = 0.2625\n"
     ]
    },
    {
     "name": "stderr",
     "output_type": "stream",
     "text": [
      "Epoch 36/50 [Train]: 100%|██████████| 1227/1227 [06:16<00:00,  3.26it/s, loss=0.126]  \n",
      "Epoch 36/50 [Val]: 100%|██████████| 24/24 [00:02<00:00,  8.20it/s, loss=0.00107]\n"
     ]
    },
    {
     "name": "stdout",
     "output_type": "stream",
     "text": [
      "Epoch 36: Train MSE = 0.0624, Val MSE = 0.2517\n"
     ]
    },
    {
     "name": "stderr",
     "output_type": "stream",
     "text": [
      "Epoch 37/50 [Train]: 100%|██████████| 1227/1227 [06:16<00:00,  3.26it/s, loss=0.064] \n",
      "Epoch 37/50 [Val]: 100%|██████████| 24/24 [00:02<00:00,  8.20it/s, loss=0.0214]\n"
     ]
    },
    {
     "name": "stdout",
     "output_type": "stream",
     "text": [
      "Epoch 37: Train MSE = 0.0604, Val MSE = 0.2666\n"
     ]
    },
    {
     "name": "stderr",
     "output_type": "stream",
     "text": [
      "Epoch 38/50 [Train]: 100%|██████████| 1227/1227 [06:17<00:00,  3.25it/s, loss=0.0144]\n",
      "Epoch 38/50 [Val]: 100%|██████████| 24/24 [00:02<00:00,  8.23it/s, loss=0.0218]\n"
     ]
    },
    {
     "name": "stdout",
     "output_type": "stream",
     "text": [
      "Epoch 38: Train MSE = 0.0589, Val MSE = 0.2600\n"
     ]
    },
    {
     "name": "stderr",
     "output_type": "stream",
     "text": [
      "Epoch 39/50 [Train]: 100%|██████████| 1227/1227 [06:16<00:00,  3.26it/s, loss=0.0296]\n",
      "Epoch 39/50 [Val]: 100%|██████████| 24/24 [00:02<00:00,  8.16it/s, loss=0.0144]\n"
     ]
    },
    {
     "name": "stdout",
     "output_type": "stream",
     "text": [
      "Epoch 39: Train MSE = 0.0584, Val MSE = 0.2515\n"
     ]
    },
    {
     "name": "stderr",
     "output_type": "stream",
     "text": [
      "Epoch 40/50 [Train]: 100%|██████████| 1227/1227 [06:16<00:00,  3.26it/s, loss=0.0688]\n",
      "Epoch 40/50 [Val]: 100%|██████████| 24/24 [00:02<00:00,  8.22it/s, loss=0.00434]\n"
     ]
    },
    {
     "name": "stdout",
     "output_type": "stream",
     "text": [
      "Epoch 40: Train MSE = 0.0553, Val MSE = 0.2602\n"
     ]
    },
    {
     "name": "stderr",
     "output_type": "stream",
     "text": [
      "Epoch 41/50 [Train]: 100%|██████████| 1227/1227 [06:16<00:00,  3.26it/s, loss=0.05]   \n",
      "Epoch 41/50 [Val]: 100%|██████████| 24/24 [00:02<00:00,  8.26it/s, loss=0.0164]\n"
     ]
    },
    {
     "name": "stdout",
     "output_type": "stream",
     "text": [
      "Epoch 41: Train MSE = 0.0528, Val MSE = 0.2521\n"
     ]
    },
    {
     "name": "stderr",
     "output_type": "stream",
     "text": [
      "Epoch 42/50 [Train]: 100%|██████████| 1227/1227 [06:16<00:00,  3.26it/s, loss=0.0386]\n",
      "Epoch 42/50 [Val]: 100%|██████████| 24/24 [00:02<00:00,  8.17it/s, loss=0.0541]\n"
     ]
    },
    {
     "name": "stdout",
     "output_type": "stream",
     "text": [
      "Epoch 42: Train MSE = 0.0530, Val MSE = 0.2622\n"
     ]
    },
    {
     "name": "stderr",
     "output_type": "stream",
     "text": [
      "Epoch 43/50 [Train]: 100%|██████████| 1227/1227 [06:16<00:00,  3.26it/s, loss=0.0332] \n",
      "Epoch 43/50 [Val]: 100%|██████████| 24/24 [00:02<00:00,  8.12it/s, loss=0.0426]\n"
     ]
    },
    {
     "name": "stdout",
     "output_type": "stream",
     "text": [
      "Epoch 43: Train MSE = 0.0525, Val MSE = 0.2642\n"
     ]
    },
    {
     "name": "stderr",
     "output_type": "stream",
     "text": [
      "Epoch 44/50 [Train]: 100%|██████████| 1227/1227 [06:16<00:00,  3.26it/s, loss=0.093]  \n",
      "Epoch 44/50 [Val]: 100%|██████████| 24/24 [00:02<00:00,  8.18it/s, loss=0.0143]\n"
     ]
    },
    {
     "name": "stdout",
     "output_type": "stream",
     "text": [
      "Epoch 44: Train MSE = 0.0503, Val MSE = 0.2601\n"
     ]
    },
    {
     "name": "stderr",
     "output_type": "stream",
     "text": [
      "Epoch 45/50 [Train]: 100%|██████████| 1227/1227 [06:16<00:00,  3.26it/s, loss=0.0286] \n",
      "Epoch 45/50 [Val]: 100%|██████████| 24/24 [00:02<00:00,  8.16it/s, loss=0.0248]\n"
     ]
    },
    {
     "name": "stdout",
     "output_type": "stream",
     "text": [
      "Epoch 45: Train MSE = 0.0503, Val MSE = 0.2559\n"
     ]
    },
    {
     "name": "stderr",
     "output_type": "stream",
     "text": [
      "Epoch 46/50 [Train]: 100%|██████████| 1227/1227 [06:16<00:00,  3.26it/s, loss=0.102]  \n",
      "Epoch 46/50 [Val]: 100%|██████████| 24/24 [00:02<00:00,  8.16it/s, loss=0.000864]\n"
     ]
    },
    {
     "name": "stdout",
     "output_type": "stream",
     "text": [
      "Epoch 46: Train MSE = 0.0487, Val MSE = 0.2601\n"
     ]
    },
    {
     "name": "stderr",
     "output_type": "stream",
     "text": [
      "Epoch 47/50 [Train]: 100%|██████████| 1227/1227 [06:16<00:00,  3.26it/s, loss=0.043]  \n",
      "Epoch 47/50 [Val]: 100%|██████████| 24/24 [00:02<00:00,  8.16it/s, loss=0.0292]\n"
     ]
    },
    {
     "name": "stdout",
     "output_type": "stream",
     "text": [
      "Epoch 47: Train MSE = 0.0476, Val MSE = 0.2455\n"
     ]
    },
    {
     "name": "stderr",
     "output_type": "stream",
     "text": [
      "Epoch 48/50 [Train]: 100%|██████████| 1227/1227 [06:17<00:00,  3.25it/s, loss=0.0141] \n",
      "Epoch 48/50 [Val]: 100%|██████████| 24/24 [00:02<00:00,  8.21it/s, loss=0.00153]\n"
     ]
    },
    {
     "name": "stdout",
     "output_type": "stream",
     "text": [
      "Epoch 48: Train MSE = 0.0468, Val MSE = 0.2491\n"
     ]
    },
    {
     "name": "stderr",
     "output_type": "stream",
     "text": [
      "Epoch 49/50 [Train]: 100%|██████████| 1227/1227 [06:17<00:00,  3.25it/s, loss=0.0867] \n",
      "Epoch 49/50 [Val]: 100%|██████████| 24/24 [00:02<00:00,  8.16it/s, loss=0.0117]\n"
     ]
    },
    {
     "name": "stdout",
     "output_type": "stream",
     "text": [
      "Epoch 49: Train MSE = 0.0433, Val MSE = 0.2372\n"
     ]
    },
    {
     "name": "stderr",
     "output_type": "stream",
     "text": [
      "Epoch 50/50 [Train]: 100%|██████████| 1227/1227 [06:16<00:00,  3.26it/s, loss=0.0865] \n",
      "Epoch 50/50 [Val]: 100%|██████████| 24/24 [00:02<00:00,  8.15it/s, loss=0.0303]"
     ]
    },
    {
     "name": "stdout",
     "output_type": "stream",
     "text": [
      "Epoch 50: Train MSE = 0.0453, Val MSE = 0.2419\n"
     ]
    },
    {
     "name": "stderr",
     "output_type": "stream",
     "text": [
      "\n"
     ]
    }
   ],
   "source": [
    "model = ResNetAngleRegressor()\n",
    "loss_fn = nn.MSELoss()\n",
    "optimizer = torch.optim.Adam(model.parameters(), lr=1e-5, weight_decay=1e-5)\n",
    "train_regression_model(model, train_loader, val_loader, optimizer, num_epochs=50, device=device, loss_fn=loss_fn)\n"
   ]
  },
  {
   "cell_type": "code",
   "execution_count": 12,
   "metadata": {},
   "outputs": [
    {
     "name": "stdout",
     "output_type": "stream",
     "text": [
      "Mean Angle Error: 31.3410 degrees\n",
      "Median Angle Error: 20.2693 degrees\n",
      "MSE (sin/cos): 0.4838\n"
     ]
    }
   ],
   "source": [
    "# Evaluate the model on the validation set\n",
    "results = evaluate_model(model, val_loader, device)\n",
    "print(f\"Mean Angle Error: {results['mean_angle_error']:.4f} degrees\")\n",
    "print(f\"Median Angle Error: {results['median_angle_error']:.4f} degrees\")\n",
    "print(f\"MSE (sin/cos): {results['mse_sin_cos']:.4f}\")"
   ]
  },
  {
   "cell_type": "code",
   "execution_count": 12,
   "metadata": {},
   "outputs": [
    {
     "name": "stdout",
     "output_type": "stream",
     "text": [
      "Mean Angle Error: 30.8790 degrees\n",
      "Median Angle Error: 19.3219 degrees\n",
      "MSE (sin/cos): 0.4744\n"
     ]
    }
   ],
   "source": [
    "# Load the best model for evaluation\n",
    "\n",
    "model_ev = ResNetAngleRegressor()\n",
    "model_ev.to(device)\n",
    "model_ev.load_state_dict(torch.load('best_model.pth'))\n",
    "\n",
    "# Evaluate the model on the validation set\n",
    "results = evaluate_model(model_ev, val_loader, device)\n",
    "print(f\"Mean Angle Error: {results['mean_angle_error']:.4f} degrees\")\n",
    "print(f\"Median Angle Error: {results['median_angle_error']:.4f} degrees\")\n",
    "print(f\"MSE (sin/cos): {results['mse_sin_cos']:.4f}\")"
   ]
  }
 ],
 "metadata": {
  "kernelspec": {
   "display_name": "Python 3",
   "language": "python",
   "name": "python3"
  },
  "language_info": {
   "codemirror_mode": {
    "name": "ipython",
    "version": 3
   },
   "file_extension": ".py",
   "mimetype": "text/x-python",
   "name": "python",
   "nbconvert_exporter": "python",
   "pygments_lexer": "ipython3",
   "version": "3.13.2"
  }
 },
 "nbformat": 4,
 "nbformat_minor": 2
}
