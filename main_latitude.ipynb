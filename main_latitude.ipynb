{
 "cells": [
  {
   "cell_type": "markdown",
   "metadata": {},
   "source": [
    "### **Importing Libraries**"
   ]
  },
  {
   "cell_type": "code",
   "execution_count": 1,
   "metadata": {},
   "outputs": [
    {
     "name": "stdout",
     "output_type": "stream",
     "text": [
      "cuda\n"
     ]
    }
   ],
   "source": [
    "import numpy as np\n",
    "import matplotlib.pyplot as plt\n",
    "import cv2\n",
    "import pandas as pd\n",
    "import torch\n",
    "import torch.nn as nn\n",
    "import torch.optim as optim\n",
    "import torch.nn.functional as F\n",
    "from torch.utils.data import DataLoader, TensorDataset, ConcatDataset\n",
    "from torch.utils.data import Dataset\n",
    "import torchvision.models as models\n",
    "from sklearn.preprocessing import RobustScaler\n",
    "from torchvision import transforms\n",
    "import torchvision\n",
    "from tqdm import tqdm\n",
    "from sklearn.model_selection import train_test_split\n",
    "from torchmetrics.segmentation import MeanIoU\n",
    "import torchvision.transforms as T\n",
    "from PIL import Image\n",
    "import math\n",
    "from sklearn.preprocessing import MinMaxScaler\n",
    "\n",
    "import os\n",
    "os.environ['CUDA_LAUNCH_BLOCKING'] = '1'\n",
    "\n",
    "device = torch.device('cuda' if torch.cuda.is_available() else 'cpu')\n",
    "print(device)"
   ]
  },
  {
   "cell_type": "markdown",
   "metadata": {},
   "source": [
    "### **Dataset**"
   ]
  },
  {
   "cell_type": "markdown",
   "metadata": {},
   "source": [
    "#### **Helper Functions**"
   ]
  },
  {
   "cell_type": "code",
   "execution_count": 2,
   "metadata": {},
   "outputs": [],
   "source": [
    "transform_base = T.Compose([\n",
    "    T.Resize((256, 256)),\n",
    "    T.ToTensor(),\n",
    "    T.Normalize(mean=[0.485, 0.456, 0.406], std=[0.229, 0.224, 0.225]) \n",
    "])\n",
    "\n",
    "transform_color = T.Compose([\n",
    "    T.Resize((256, 256)),\n",
    "    T.ColorJitter(brightness=0.3, contrast=0.2, saturation=0.2, hue=0.1),\n",
    "    T.ToTensor(),\n",
    "    T.Normalize(mean=[0.485, 0.456, 0.406], std=[0.229, 0.224, 0.225])\n",
    "])\n",
    "\n",
    "transform_affine = T.Compose([\n",
    "    T.Resize((256, 256)),\n",
    "    T.RandomAffine(degrees=0, translate=(0.2, 0.2), scale=(0.8, 1.2), shear=0.2),\n",
    "    T.ToTensor(),\n",
    "    T.Normalize(mean=[0.485, 0.456, 0.406], std=[0.229, 0.224, 0.225])\n",
    "])\n",
    "\n",
    "transform_val = T.Compose([\n",
    "    T.Resize((256, 256)),\n",
    "    T.ToTensor(),\n",
    "    T.Normalize(mean=[0.485, 0.456, 0.406], std=[0.229, 0.224, 0.225])\n",
    "])\n",
    "\n",
    "def angle_to_vector(theta_deg):\n",
    "    theta_rad = math.radians(theta_deg)\n",
    "    return torch.tensor([math.cos(theta_rad), math.sin(theta_rad)], dtype=torch.float32)\n",
    "\n",
    "def vector_to_angle(vector):\n",
    "    cos_theta, sin_theta = vector\n",
    "    angle_rad = torch.atan2(sin_theta, cos_theta)\n",
    "    angle_deg = angle_rad * (180 / math.pi)\n",
    "    # Ensure angle is in [0, 360) range\n",
    "    return (angle_deg + 360) % 360"
   ]
  },
  {
   "cell_type": "markdown",
   "metadata": {},
   "source": [
    "#### **Dataset Class**"
   ]
  },
  {
   "cell_type": "code",
   "execution_count": 3,
   "metadata": {},
   "outputs": [],
   "source": [
    "class LatitudeDataset(Dataset):\n",
    "    def __init__(self, image_dir, labels_df, transform=None, scaler=None, fit_scaler=True, log_transform=True):\n",
    "        self.image_dir = image_dir\n",
    "        self.labels_df = labels_df\n",
    "        self.transform = transform\n",
    "        self.log_transform = log_transform\n",
    "        \n",
    "        latitudes = labels_df['latitude'].values.reshape(-1, 1)\n",
    "        \n",
    "        # Log transform to manage wide range of values like 234876\n",
    "        if self.log_transform:\n",
    "            transformed_latitudes = np.sign(latitudes) * np.log1p(np.abs(latitudes))\n",
    "        else:\n",
    "            transformed_latitudes = latitudes\n",
    "            \n",
    "        # Use RobustScaler to handle outliers\n",
    "        if scaler is None:\n",
    "            self.scaler = RobustScaler()\n",
    "            if fit_scaler:\n",
    "                self.scaler.fit(transformed_latitudes)\n",
    "        else:\n",
    "            self.scaler = scaler\n",
    "            \n",
    "        self.scaled_latitudes = self.scaler.transform(transformed_latitudes).flatten()\n",
    "        self.original_latitudes = latitudes.flatten()\n",
    "\n",
    "    def __len__(self):\n",
    "        return len(self.labels_df)\n",
    "\n",
    "    def __getitem__(self, idx):\n",
    "        row = self.labels_df.iloc[idx]\n",
    "        img_path = os.path.join(self.image_dir, row['filename'])\n",
    "        image = Image.open(img_path).convert(\"RGB\")\n",
    "\n",
    "        if self.transform:\n",
    "            image = self.transform(image)\n",
    "\n",
    "        scaled_latitude = torch.tensor(self.scaled_latitudes[idx], dtype=torch.float32)\n",
    "        \n",
    "        return image, scaled_latitude\n",
    "        \n",
    "    def inverse_transform(self, scaled_values):\n",
    "        if torch.is_tensor(scaled_values):\n",
    "            scaled_values = scaled_values.cpu().numpy()\n",
    "            \n",
    "        if scaled_values.ndim == 1:\n",
    "            scaled_values = scaled_values.reshape(-1, 1)\n",
    "            \n",
    "        transformed_values = self.scaler.inverse_transform(scaled_values)\n",
    "        \n",
    "        # Reverse the log1p transform\n",
    "        if self.log_transform:\n",
    "            original_values = np.sign(transformed_values) * (np.expm1(np.abs(transformed_values)))\n",
    "        else:\n",
    "            original_values = transformed_values\n",
    "            \n",
    "        return original_values.flatten()\n"
   ]
  },
  {
   "cell_type": "markdown",
   "metadata": {},
   "source": [
    "#### **Extend Dataset**"
   ]
  },
  {
   "cell_type": "code",
   "execution_count": 4,
   "metadata": {},
   "outputs": [],
   "source": [
    "def create_extended_dataset(image_dir, labels_df):\n",
    "    # Original dataset\n",
    "    original_dataset = LatitudeDataset(\n",
    "        image_dir=image_dir,\n",
    "        labels_df=labels_df,\n",
    "        transform=transform_base,\n",
    "        log_transform=True,\n",
    "    )\n",
    "    \n",
    "    # Color jitter augmented dataset\n",
    "    color_dataset = LatitudeDataset(\n",
    "        image_dir=image_dir,\n",
    "        labels_df=labels_df,\n",
    "        transform=transform_color,\n",
    "        log_transform=True\n",
    "    )\n",
    "    \n",
    "    # # Affine transform augmented dataset\n",
    "    affine_dataset = LatitudeDataset(\n",
    "        image_dir=image_dir,\n",
    "        labels_df=labels_df,\n",
    "        transform=transform_affine,\n",
    "        log_transform=True\n",
    "    )\n",
    "    \n",
    "    extended_dataset = ConcatDataset([original_dataset, color_dataset, affine_dataset])\n",
    "    \n",
    "    return original_dataset"
   ]
  },
  {
   "cell_type": "markdown",
   "metadata": {},
   "source": [
    "#### **Training**"
   ]
  },
  {
   "cell_type": "code",
   "execution_count": 5,
   "metadata": {},
   "outputs": [],
   "source": [
    "image_dir_train = \"Dataset/Train/images_train\"\n",
    "labels_path_train = \"Dataset/Train/labels_train.csv\"\n",
    "\n",
    "labels_df = pd.read_csv(labels_path_train)\n",
    "\n",
    "train_dataset = create_extended_dataset(image_dir_train, labels_df)\n",
    "train_loader = DataLoader(train_dataset, batch_size=16, shuffle=True)"
   ]
  },
  {
   "cell_type": "markdown",
   "metadata": {},
   "source": [
    "#### **Validation**"
   ]
  },
  {
   "cell_type": "code",
   "execution_count": 6,
   "metadata": {},
   "outputs": [],
   "source": [
    "images_dir_val = \"Dataset/Val/images_val\"\n",
    "labels_path_val = \"Dataset/Val/labels_val.csv\"\n",
    "labels_df_val = pd.read_csv(labels_path_val)\n",
    "\n",
    "val_dataset = LatitudeDataset(\n",
    "    image_dir=images_dir_val,\n",
    "    labels_df=labels_df_val,\n",
    "    transform=transform_val,\n",
    "    scaler=train_dataset.scaler,\n",
    "    fit_scaler=False,\n",
    "    log_transform=True\n",
    ")\n",
    "val_loader = DataLoader(val_dataset, batch_size=16, shuffle=False)"
   ]
  },
  {
   "cell_type": "markdown",
   "metadata": {},
   "source": [
    "### **Model**"
   ]
  },
  {
   "cell_type": "markdown",
   "metadata": {},
   "source": [
    "#### **Model Implementation**"
   ]
  },
  {
   "cell_type": "code",
   "execution_count": 7,
   "metadata": {},
   "outputs": [],
   "source": [
    "class LatitudeRegressor(nn.Module):\n",
    "    def __init__(self, pretrained=True, dropout_rate=0.3):\n",
    "        super().__init__()\n",
    "        base_model = models.resnet50(weights='DEFAULT' if pretrained else None)\n",
    "        num_features = base_model.fc.in_features\n",
    "        self.features = nn.Sequential(*list(base_model.children())[:-1])\n",
    "        \n",
    "        # Regression head for latitude prediction\n",
    "        self.regressor = nn.Sequential(\n",
    "            nn.Flatten(),\n",
    "            nn.Linear(num_features, 1024),\n",
    "            nn.BatchNorm1d(1024), \n",
    "            nn.ReLU(),\n",
    "            nn.Dropout(dropout_rate),\n",
    "            \n",
    "            nn.Linear(1024, 512),\n",
    "            nn.BatchNorm1d(512),\n",
    "            nn.ReLU(),\n",
    "            nn.Dropout(dropout_rate),\n",
    "            \n",
    "            nn.Linear(512, 1)\n",
    "        )\n",
    "\n",
    "    def forward(self, x):\n",
    "        x = self.features(x)\n",
    "        x = self.regressor(x)\n",
    "        return x"
   ]
  },
  {
   "cell_type": "markdown",
   "metadata": {},
   "source": [
    "### **Training**"
   ]
  },
  {
   "cell_type": "code",
   "execution_count": 8,
   "metadata": {},
   "outputs": [],
   "source": [
    "def train_regression_model(model, train_loader, val_loader, optimizer, num_epochs, device, loss_fn):\n",
    "   model.to(device)\n",
    "   best_val_loss = float('inf')\n",
    "\n",
    "   for epoch in range(num_epochs):\n",
    "       model.train()\n",
    "       train_loss = 0.0\n",
    "       pbar = tqdm(train_loader, desc=f\"Epoch {epoch+1}/{num_epochs} [Train]\")\n",
    "\n",
    "       for images, targets in pbar:\n",
    "           images = images.to(device)\n",
    "           targets = targets.to(device)\n",
    "\n",
    "           preds = model(images)\n",
    "           loss = loss_fn(preds.squeeze(), targets)\n",
    "\n",
    "           optimizer.zero_grad()\n",
    "           loss.backward()\n",
    "           optimizer.step()\n",
    "\n",
    "           train_loss += loss.item() * images.size(0)\n",
    "           pbar.set_postfix(loss=loss.item())\n",
    "\n",
    "       avg_train_loss = train_loss / len(train_loader.dataset)\n",
    "\n",
    "       # Validation loop\n",
    "       model.eval()\n",
    "       val_loss = 0.0\n",
    "       all_preds = []\n",
    "       all_targets = []\n",
    "       \n",
    "       with torch.no_grad():\n",
    "           pbar = tqdm(val_loader, desc=f\"Epoch {epoch+1}/{num_epochs} [Val]\")\n",
    "           for images, targets in pbar:\n",
    "               images = images.to(device)\n",
    "               targets = targets.to(device)\n",
    "\n",
    "               preds = model(images)\n",
    "               loss = loss_fn(preds.squeeze(), targets)\n",
    "\n",
    "               val_loss += loss.item() * images.size(0)\n",
    "               pbar.set_postfix(loss=loss.item())\n",
    "\n",
    "\n",
    "       avg_val_loss = val_loss / len(val_loader.dataset)\n",
    "       if avg_val_loss < best_val_loss:\n",
    "           best_val_loss = avg_val_loss\n",
    "           torch.save(model.state_dict(), 'best_model.pth')\n",
    "\n",
    "       print(f\"Epoch {epoch+1}: Train MSE = {avg_train_loss:.4f}, Val MSE = {avg_val_loss:.4f}\")"
   ]
  },
  {
   "cell_type": "code",
   "execution_count": 9,
   "metadata": {},
   "outputs": [],
   "source": [
    "def evaluate_model(model, test_loader, device, dataset=None):\n",
    "    \n",
    "    model.eval()\n",
    "    scaled_predictions = []\n",
    "    scaled_ground_truths = []\n",
    "    \n",
    "    with torch.no_grad():\n",
    "        for inputs, scaled_latitudes in tqdm(test_loader, desc=\"Evaluating\"):\n",
    "            inputs = inputs.to(device)\n",
    "            scaled_latitudes = scaled_latitudes.to(device)\n",
    "            \n",
    "            outputs = model(inputs)\n",
    "            \n",
    "            scaled_predictions.extend(outputs.cpu().numpy())\n",
    "            scaled_ground_truths.extend(scaled_latitudes.cpu().numpy())\n",
    "    \n",
    "    scaled_predictions = np.array(scaled_predictions).flatten()\n",
    "    scaled_ground_truths = np.array(scaled_ground_truths).flatten()\n",
    "    \n",
    "    scaled_mse = np.mean((scaled_predictions - scaled_ground_truths) ** 2)\n",
    "    scaled_rmse = np.sqrt(scaled_mse)\n",
    "    scaled_mae = np.mean(np.abs(scaled_predictions - scaled_ground_truths))\n",
    "    \n",
    "    results = {\n",
    "        'scaled_mse': scaled_mse,\n",
    "        'scaled_rmse': scaled_rmse,\n",
    "        'scaled_mae': scaled_mae,\n",
    "    }\n",
    "    \n",
    "    if dataset is not None:\n",
    "        unscaled_predictions = dataset.inverse_transform(scaled_predictions)\n",
    "        unscaled_ground_truths = dataset.inverse_transform(scaled_ground_truths)\n",
    "        \n",
    "        unscaled_mse = np.mean((unscaled_predictions - unscaled_ground_truths) ** 2)\n",
    "        unscaled_rmse = np.sqrt(unscaled_mse)\n",
    "        \n",
    "        results.update({\n",
    "            'unscaled_mse': unscaled_mse,\n",
    "            'unscaled_rmse': unscaled_rmse,\n",
    "            'predictions': unscaled_predictions,\n",
    "            'ground_truths': unscaled_ground_truths\n",
    "        })\n",
    "        \n",
    "        errors = np.abs(unscaled_predictions - unscaled_ground_truths)\n",
    "        percentiles = [50, 75, 90, 95, 99]\n",
    "        error_percentiles = np.percentile(errors, percentiles)\n",
    "        \n",
    "        for i, p in enumerate(percentiles):\n",
    "            results[f'p{p}_error'] = error_percentiles[i]\n",
    "    \n",
    "    return results"
   ]
  },
  {
   "cell_type": "code",
   "execution_count": 10,
   "metadata": {},
   "outputs": [
    {
     "name": "stderr",
     "output_type": "stream",
     "text": [
      "Epoch 1/50 [Train]: 100%|██████████| 409/409 [02:04<00:00,  3.29it/s, loss=10.2]   \n",
      "Epoch 1/50 [Val]:  96%|█████████▌| 23/24 [00:03<00:00,  5.62it/s, loss=18.6]   /home/chetan/miniconda3/envs/localEnv/lib/python3.13/site-packages/torch/nn/modules/loss.py:610: UserWarning: Using a target size (torch.Size([1])) that is different to the input size (torch.Size([])). This will likely lead to incorrect results due to broadcasting. Please ensure they have the same size.\n",
      "  return F.mse_loss(input, target, reduction=self.reduction)\n",
      "Epoch 1/50 [Val]: 100%|██████████| 24/24 [00:03<00:00,  7.60it/s, loss=9.16]\n"
     ]
    },
    {
     "name": "stdout",
     "output_type": "stream",
     "text": [
      "Epoch 1: Train MSE = 3354.8151, Val MSE = 675.2851\n"
     ]
    },
    {
     "name": "stderr",
     "output_type": "stream",
     "text": [
      "Epoch 2/50 [Train]: 100%|██████████| 409/409 [02:04<00:00,  3.30it/s, loss=14.3]   \n",
      "Epoch 2/50 [Val]: 100%|██████████| 24/24 [00:03<00:00,  7.51it/s, loss=5.9]    \n"
     ]
    },
    {
     "name": "stdout",
     "output_type": "stream",
     "text": [
      "Epoch 2: Train MSE = 3353.1985, Val MSE = 587.4825\n"
     ]
    },
    {
     "name": "stderr",
     "output_type": "stream",
     "text": [
      "Epoch 3/50 [Train]: 100%|██████████| 409/409 [02:04<00:00,  3.27it/s, loss=9.68]   \n",
      "Epoch 3/50 [Val]: 100%|██████████| 24/24 [00:03<00:00,  7.51it/s, loss=3.37]   \n"
     ]
    },
    {
     "name": "stdout",
     "output_type": "stream",
     "text": [
      "Epoch 3: Train MSE = 3355.2582, Val MSE = 1801.3703\n"
     ]
    },
    {
     "name": "stderr",
     "output_type": "stream",
     "text": [
      "Epoch 4/50 [Train]: 100%|██████████| 409/409 [02:04<00:00,  3.30it/s, loss=20]     \n",
      "Epoch 4/50 [Val]: 100%|██████████| 24/24 [00:03<00:00,  7.60it/s, loss=2.8]    \n"
     ]
    },
    {
     "name": "stdout",
     "output_type": "stream",
     "text": [
      "Epoch 4: Train MSE = 3350.5429, Val MSE = 590.7704\n"
     ]
    },
    {
     "name": "stderr",
     "output_type": "stream",
     "text": [
      "Epoch 5/50 [Train]: 100%|██████████| 409/409 [02:04<00:00,  3.28it/s, loss=8.95]   \n",
      "Epoch 5/50 [Val]: 100%|██████████| 24/24 [00:03<00:00,  7.53it/s, loss=8.58]   \n"
     ]
    },
    {
     "name": "stdout",
     "output_type": "stream",
     "text": [
      "Epoch 5: Train MSE = 3353.1230, Val MSE = 581.3582\n"
     ]
    },
    {
     "name": "stderr",
     "output_type": "stream",
     "text": [
      "Epoch 6/50 [Train]: 100%|██████████| 409/409 [02:04<00:00,  3.29it/s, loss=17.4]   \n",
      "Epoch 6/50 [Val]: 100%|██████████| 24/24 [00:03<00:00,  7.60it/s, loss=4.87]   \n"
     ]
    },
    {
     "name": "stdout",
     "output_type": "stream",
     "text": [
      "Epoch 6: Train MSE = 3352.2631, Val MSE = 521.4255\n"
     ]
    },
    {
     "name": "stderr",
     "output_type": "stream",
     "text": [
      "Epoch 7/50 [Train]: 100%|██████████| 409/409 [02:06<00:00,  3.23it/s, loss=11.4]   \n",
      "Epoch 7/50 [Val]: 100%|██████████| 24/24 [00:03<00:00,  7.52it/s, loss=22]     \n"
     ]
    },
    {
     "name": "stdout",
     "output_type": "stream",
     "text": [
      "Epoch 7: Train MSE = 3349.8058, Val MSE = 578.9783\n"
     ]
    },
    {
     "name": "stderr",
     "output_type": "stream",
     "text": [
      "Epoch 8/50 [Train]: 100%|██████████| 409/409 [02:04<00:00,  3.29it/s, loss=9.43]   \n",
      "Epoch 8/50 [Val]: 100%|██████████| 24/24 [00:03<00:00,  7.58it/s, loss=7.62]   \n"
     ]
    },
    {
     "name": "stdout",
     "output_type": "stream",
     "text": [
      "Epoch 8: Train MSE = 3352.2795, Val MSE = 579.8711\n"
     ]
    },
    {
     "name": "stderr",
     "output_type": "stream",
     "text": [
      "Epoch 9/50 [Train]: 100%|██████████| 409/409 [02:04<00:00,  3.29it/s, loss=5.02e+3]\n",
      "Epoch 9/50 [Val]: 100%|██████████| 24/24 [00:03<00:00,  7.58it/s, loss=3.46]   \n"
     ]
    },
    {
     "name": "stdout",
     "output_type": "stream",
     "text": [
      "Epoch 9: Train MSE = 3355.6268, Val MSE = 581.3703\n"
     ]
    },
    {
     "name": "stderr",
     "output_type": "stream",
     "text": [
      "Epoch 10/50 [Train]: 100%|██████████| 409/409 [02:04<00:00,  3.29it/s, loss=11.6]   \n",
      "Epoch 10/50 [Val]: 100%|██████████| 24/24 [00:03<00:00,  7.62it/s, loss=7]      \n"
     ]
    },
    {
     "name": "stdout",
     "output_type": "stream",
     "text": [
      "Epoch 10: Train MSE = 3352.1458, Val MSE = 580.0108\n"
     ]
    },
    {
     "name": "stderr",
     "output_type": "stream",
     "text": [
      "Epoch 11/50 [Train]: 100%|██████████| 409/409 [02:06<00:00,  3.22it/s, loss=13.9]   \n",
      "Epoch 11/50 [Val]: 100%|██████████| 24/24 [00:03<00:00,  7.51it/s, loss=0.231]  \n"
     ]
    },
    {
     "name": "stdout",
     "output_type": "stream",
     "text": [
      "Epoch 11: Train MSE = 3349.0657, Val MSE = 579.9679\n"
     ]
    },
    {
     "name": "stderr",
     "output_type": "stream",
     "text": [
      "Epoch 12/50 [Train]: 100%|██████████| 409/409 [02:04<00:00,  3.29it/s, loss=24.2]   \n",
      "Epoch 12/50 [Val]: 100%|██████████| 24/24 [00:03<00:00,  7.60it/s, loss=5.6]    \n"
     ]
    },
    {
     "name": "stdout",
     "output_type": "stream",
     "text": [
      "Epoch 12: Train MSE = 3349.2298, Val MSE = 887.1007\n"
     ]
    },
    {
     "name": "stderr",
     "output_type": "stream",
     "text": [
      "Epoch 13/50 [Train]: 100%|██████████| 409/409 [02:03<00:00,  3.30it/s, loss=21.1]   \n",
      "Epoch 13/50 [Val]: 100%|██████████| 24/24 [00:03<00:00,  7.60it/s, loss=3.08]   \n"
     ]
    },
    {
     "name": "stdout",
     "output_type": "stream",
     "text": [
      "Epoch 13: Train MSE = 3344.9545, Val MSE = 602.5919\n"
     ]
    },
    {
     "name": "stderr",
     "output_type": "stream",
     "text": [
      "Epoch 14/50 [Train]: 100%|██████████| 409/409 [02:03<00:00,  3.30it/s, loss=23.4]   \n",
      "Epoch 14/50 [Val]: 100%|██████████| 24/24 [00:03<00:00,  7.60it/s, loss=4.48]   \n"
     ]
    },
    {
     "name": "stdout",
     "output_type": "stream",
     "text": [
      "Epoch 14: Train MSE = 3332.4760, Val MSE = 582.6356\n"
     ]
    },
    {
     "name": "stderr",
     "output_type": "stream",
     "text": [
      "Epoch 15/50 [Train]: 100%|██████████| 409/409 [02:04<00:00,  3.29it/s, loss=17.8]   \n",
      "Epoch 15/50 [Val]: 100%|██████████| 24/24 [00:03<00:00,  7.36it/s, loss=1.48]   \n"
     ]
    },
    {
     "name": "stdout",
     "output_type": "stream",
     "text": [
      "Epoch 15: Train MSE = 3345.7364, Val MSE = 590.2426\n"
     ]
    },
    {
     "name": "stderr",
     "output_type": "stream",
     "text": [
      "Epoch 16/50 [Train]: 100%|██████████| 409/409 [02:04<00:00,  3.29it/s, loss=23.2]   \n",
      "Epoch 16/50 [Val]: 100%|██████████| 24/24 [00:03<00:00,  7.45it/s, loss=1.45]   \n"
     ]
    },
    {
     "name": "stdout",
     "output_type": "stream",
     "text": [
      "Epoch 16: Train MSE = 3337.1582, Val MSE = 566.8866\n"
     ]
    },
    {
     "name": "stderr",
     "output_type": "stream",
     "text": [
      "Epoch 17/50 [Train]: 100%|██████████| 409/409 [02:03<00:00,  3.30it/s, loss=13.6]   \n",
      "Epoch 17/50 [Val]: 100%|██████████| 24/24 [00:03<00:00,  7.58it/s, loss=0.796]  \n"
     ]
    },
    {
     "name": "stdout",
     "output_type": "stream",
     "text": [
      "Epoch 17: Train MSE = 3349.1686, Val MSE = 574.7061\n"
     ]
    },
    {
     "name": "stderr",
     "output_type": "stream",
     "text": [
      "Epoch 18/50 [Train]: 100%|██████████| 409/409 [02:06<00:00,  3.24it/s, loss=20.1]   \n",
      "Epoch 18/50 [Val]: 100%|██████████| 24/24 [00:03<00:00,  7.37it/s, loss=0.777]  \n"
     ]
    },
    {
     "name": "stdout",
     "output_type": "stream",
     "text": [
      "Epoch 18: Train MSE = 3348.3414, Val MSE = 689.2486\n"
     ]
    },
    {
     "name": "stderr",
     "output_type": "stream",
     "text": [
      "Epoch 19/50 [Train]: 100%|██████████| 409/409 [02:04<00:00,  3.30it/s, loss=27.6]   \n",
      "Epoch 19/50 [Val]: 100%|██████████| 24/24 [00:03<00:00,  7.46it/s, loss=2.15]   \n"
     ]
    },
    {
     "name": "stdout",
     "output_type": "stream",
     "text": [
      "Epoch 19: Train MSE = 3330.2217, Val MSE = 551.4720\n"
     ]
    },
    {
     "name": "stderr",
     "output_type": "stream",
     "text": [
      "Epoch 20/50 [Train]: 100%|██████████| 409/409 [02:04<00:00,  3.30it/s, loss=27.5]   \n",
      "Epoch 20/50 [Val]: 100%|██████████| 24/24 [00:03<00:00,  7.62it/s, loss=0.656]  \n"
     ]
    },
    {
     "name": "stdout",
     "output_type": "stream",
     "text": [
      "Epoch 20: Train MSE = 3324.5508, Val MSE = 584.8084\n"
     ]
    },
    {
     "name": "stderr",
     "output_type": "stream",
     "text": [
      "Epoch 21/50 [Train]: 100%|██████████| 409/409 [02:03<00:00,  3.31it/s, loss=14.5]   \n",
      "Epoch 21/50 [Val]: 100%|██████████| 24/24 [00:03<00:00,  7.65it/s, loss=0.746]  \n"
     ]
    },
    {
     "name": "stdout",
     "output_type": "stream",
     "text": [
      "Epoch 21: Train MSE = 3343.2381, Val MSE = 582.3507\n"
     ]
    },
    {
     "name": "stderr",
     "output_type": "stream",
     "text": [
      "Epoch 22/50 [Train]: 100%|██████████| 409/409 [02:03<00:00,  3.30it/s, loss=22.4]   \n",
      "Epoch 22/50 [Val]: 100%|██████████| 24/24 [00:03<00:00,  7.59it/s, loss=1.27]   \n"
     ]
    },
    {
     "name": "stdout",
     "output_type": "stream",
     "text": [
      "Epoch 22: Train MSE = 3343.2954, Val MSE = 567.5283\n"
     ]
    },
    {
     "name": "stderr",
     "output_type": "stream",
     "text": [
      "Epoch 23/50 [Train]: 100%|██████████| 409/409 [02:03<00:00,  3.31it/s, loss=25.7]   \n",
      "Epoch 23/50 [Val]: 100%|██████████| 24/24 [00:03<00:00,  7.57it/s, loss=1.03]   \n"
     ]
    },
    {
     "name": "stdout",
     "output_type": "stream",
     "text": [
      "Epoch 23: Train MSE = 3321.1558, Val MSE = 563.5981\n"
     ]
    },
    {
     "name": "stderr",
     "output_type": "stream",
     "text": [
      "Epoch 24/50 [Train]: 100%|██████████| 409/409 [02:02<00:00,  3.33it/s, loss=5.05e+3]\n",
      "Epoch 24/50 [Val]: 100%|██████████| 24/24 [00:03<00:00,  7.66it/s, loss=0.037]  \n"
     ]
    },
    {
     "name": "stdout",
     "output_type": "stream",
     "text": [
      "Epoch 24: Train MSE = 3329.3208, Val MSE = 582.0509\n"
     ]
    },
    {
     "name": "stderr",
     "output_type": "stream",
     "text": [
      "Epoch 25/50 [Train]: 100%|██████████| 409/409 [02:03<00:00,  3.32it/s, loss=19.9]   \n",
      "Epoch 25/50 [Val]: 100%|██████████| 24/24 [00:03<00:00,  7.61it/s, loss=1.28]   \n"
     ]
    },
    {
     "name": "stdout",
     "output_type": "stream",
     "text": [
      "Epoch 25: Train MSE = 3338.5059, Val MSE = 580.2898\n"
     ]
    },
    {
     "name": "stderr",
     "output_type": "stream",
     "text": [
      "Epoch 26/50 [Train]: 100%|██████████| 409/409 [02:02<00:00,  3.33it/s, loss=19.1]   \n",
      "Epoch 26/50 [Val]: 100%|██████████| 24/24 [00:03<00:00,  7.67it/s, loss=0.164]  \n"
     ]
    },
    {
     "name": "stdout",
     "output_type": "stream",
     "text": [
      "Epoch 26: Train MSE = 3331.6078, Val MSE = 593.1789\n"
     ]
    },
    {
     "name": "stderr",
     "output_type": "stream",
     "text": [
      "Epoch 27/50 [Train]: 100%|██████████| 409/409 [02:03<00:00,  3.30it/s, loss=43.5]   \n",
      "Epoch 27/50 [Val]: 100%|██████████| 24/24 [00:03<00:00,  7.70it/s, loss=449]    \n"
     ]
    },
    {
     "name": "stdout",
     "output_type": "stream",
     "text": [
      "Epoch 27: Train MSE = 3323.9436, Val MSE = 929.9168\n"
     ]
    },
    {
     "name": "stderr",
     "output_type": "stream",
     "text": [
      "Epoch 28/50 [Train]: 100%|██████████| 409/409 [02:03<00:00,  3.32it/s, loss=54.4]   \n",
      "Epoch 28/50 [Val]: 100%|██████████| 24/24 [00:03<00:00,  7.52it/s, loss=0.0515] \n"
     ]
    },
    {
     "name": "stdout",
     "output_type": "stream",
     "text": [
      "Epoch 28: Train MSE = 3323.8312, Val MSE = 728.5247\n"
     ]
    },
    {
     "name": "stderr",
     "output_type": "stream",
     "text": [
      "Epoch 29/50 [Train]: 100%|██████████| 409/409 [02:03<00:00,  3.32it/s, loss=34.9]   \n",
      "Epoch 29/50 [Val]: 100%|██████████| 24/24 [00:03<00:00,  7.50it/s, loss=0.0422] \n"
     ]
    },
    {
     "name": "stdout",
     "output_type": "stream",
     "text": [
      "Epoch 29: Train MSE = 3318.0025, Val MSE = 607.9762\n"
     ]
    },
    {
     "name": "stderr",
     "output_type": "stream",
     "text": [
      "Epoch 30/50 [Train]: 100%|██████████| 409/409 [02:02<00:00,  3.33it/s, loss=54.1]   \n",
      "Epoch 30/50 [Val]: 100%|██████████| 24/24 [00:03<00:00,  7.59it/s, loss=0.0536] \n"
     ]
    },
    {
     "name": "stdout",
     "output_type": "stream",
     "text": [
      "Epoch 30: Train MSE = 3276.1090, Val MSE = 620.6347\n"
     ]
    },
    {
     "name": "stderr",
     "output_type": "stream",
     "text": [
      "Epoch 31/50 [Train]: 100%|██████████| 409/409 [02:02<00:00,  3.33it/s, loss=57.3]   \n",
      "Epoch 31/50 [Val]: 100%|██████████| 24/24 [00:03<00:00,  7.64it/s, loss=0.113]  \n"
     ]
    },
    {
     "name": "stdout",
     "output_type": "stream",
     "text": [
      "Epoch 31: Train MSE = 3303.3707, Val MSE = 605.4012\n"
     ]
    },
    {
     "name": "stderr",
     "output_type": "stream",
     "text": [
      "Epoch 32/50 [Train]: 100%|██████████| 409/409 [02:02<00:00,  3.33it/s, loss=5.09e+3]\n",
      "Epoch 32/50 [Val]: 100%|██████████| 24/24 [00:03<00:00,  7.58it/s, loss=0.0844] \n"
     ]
    },
    {
     "name": "stdout",
     "output_type": "stream",
     "text": [
      "Epoch 32: Train MSE = 3253.0563, Val MSE = 730.1180\n"
     ]
    },
    {
     "name": "stderr",
     "output_type": "stream",
     "text": [
      "Epoch 33/50 [Train]: 100%|██████████| 409/409 [02:02<00:00,  3.34it/s, loss=61.8]   \n",
      "Epoch 33/50 [Val]: 100%|██████████| 24/24 [00:03<00:00,  7.60it/s, loss=0.0272] \n"
     ]
    },
    {
     "name": "stdout",
     "output_type": "stream",
     "text": [
      "Epoch 33: Train MSE = 3273.1480, Val MSE = 577.3089\n"
     ]
    },
    {
     "name": "stderr",
     "output_type": "stream",
     "text": [
      "Epoch 34/50 [Train]: 100%|██████████| 409/409 [02:02<00:00,  3.33it/s, loss=64.9]   \n",
      "Epoch 34/50 [Val]: 100%|██████████| 24/24 [00:03<00:00,  7.68it/s, loss=0.0056] \n"
     ]
    },
    {
     "name": "stdout",
     "output_type": "stream",
     "text": [
      "Epoch 34: Train MSE = 3235.5178, Val MSE = 599.7168\n"
     ]
    },
    {
     "name": "stderr",
     "output_type": "stream",
     "text": [
      "Epoch 35/50 [Train]: 100%|██████████| 409/409 [02:03<00:00,  3.31it/s, loss=81.1]   \n",
      "Epoch 35/50 [Val]: 100%|██████████| 24/24 [00:03<00:00,  7.65it/s, loss=6.43e-5]\n"
     ]
    },
    {
     "name": "stdout",
     "output_type": "stream",
     "text": [
      "Epoch 35: Train MSE = 3203.5476, Val MSE = 531.7470\n"
     ]
    },
    {
     "name": "stderr",
     "output_type": "stream",
     "text": [
      "Epoch 36/50 [Train]: 100%|██████████| 409/409 [02:03<00:00,  3.31it/s, loss=110]    \n",
      "Epoch 36/50 [Val]: 100%|██████████| 24/24 [00:03<00:00,  7.51it/s, loss=6.28]   \n"
     ]
    },
    {
     "name": "stdout",
     "output_type": "stream",
     "text": [
      "Epoch 36: Train MSE = 3182.7858, Val MSE = 563.8996\n"
     ]
    },
    {
     "name": "stderr",
     "output_type": "stream",
     "text": [
      "Epoch 37/50 [Train]: 100%|██████████| 409/409 [02:03<00:00,  3.32it/s, loss=67.4]   \n",
      "Epoch 37/50 [Val]: 100%|██████████| 24/24 [00:03<00:00,  7.27it/s, loss=0.957]  \n"
     ]
    },
    {
     "name": "stdout",
     "output_type": "stream",
     "text": [
      "Epoch 37: Train MSE = 3210.4444, Val MSE = 548.7644\n"
     ]
    },
    {
     "name": "stderr",
     "output_type": "stream",
     "text": [
      "Epoch 38/50 [Train]: 100%|██████████| 409/409 [02:02<00:00,  3.33it/s, loss=34]     \n",
      "Epoch 38/50 [Val]: 100%|██████████| 24/24 [00:03<00:00,  7.57it/s, loss=5.69]   \n"
     ]
    },
    {
     "name": "stdout",
     "output_type": "stream",
     "text": [
      "Epoch 38: Train MSE = 3142.4425, Val MSE = 583.0201\n"
     ]
    },
    {
     "name": "stderr",
     "output_type": "stream",
     "text": [
      "Epoch 39/50 [Train]: 100%|██████████| 409/409 [02:03<00:00,  3.32it/s, loss=29.1]   \n",
      "Epoch 39/50 [Val]: 100%|██████████| 24/24 [00:03<00:00,  7.59it/s, loss=3.53]  \n"
     ]
    },
    {
     "name": "stdout",
     "output_type": "stream",
     "text": [
      "Epoch 39: Train MSE = 3092.3385, Val MSE = 502.6962\n"
     ]
    },
    {
     "name": "stderr",
     "output_type": "stream",
     "text": [
      "Epoch 40/50 [Train]: 100%|██████████| 409/409 [02:03<00:00,  3.32it/s, loss=5.02e+3]\n",
      "Epoch 40/50 [Val]: 100%|██████████| 24/24 [00:03<00:00,  7.67it/s, loss=5.17]   \n"
     ]
    },
    {
     "name": "stdout",
     "output_type": "stream",
     "text": [
      "Epoch 40: Train MSE = 3088.7091, Val MSE = 510.1438\n"
     ]
    },
    {
     "name": "stderr",
     "output_type": "stream",
     "text": [
      "Epoch 41/50 [Train]: 100%|██████████| 409/409 [02:02<00:00,  3.33it/s, loss=47.8]   \n",
      "Epoch 41/50 [Val]: 100%|██████████| 24/24 [00:03<00:00,  7.71it/s, loss=10.6]   \n"
     ]
    },
    {
     "name": "stdout",
     "output_type": "stream",
     "text": [
      "Epoch 41: Train MSE = 3038.6650, Val MSE = 490.5246\n"
     ]
    },
    {
     "name": "stderr",
     "output_type": "stream",
     "text": [
      "Epoch 42/50 [Train]: 100%|██████████| 409/409 [01:56<00:00,  3.52it/s, loss=31.4]   \n",
      "Epoch 42/50 [Val]: 100%|██████████| 24/24 [00:02<00:00,  8.32it/s, loss=2.02]   \n"
     ]
    },
    {
     "name": "stdout",
     "output_type": "stream",
     "text": [
      "Epoch 42: Train MSE = 2962.4623, Val MSE = 555.9737\n"
     ]
    },
    {
     "name": "stderr",
     "output_type": "stream",
     "text": [
      "Epoch 43/50 [Train]: 100%|██████████| 409/409 [01:52<00:00,  3.63it/s, loss=588]    \n",
      "Epoch 43/50 [Val]: 100%|██████████| 24/24 [00:02<00:00,  8.24it/s, loss=20.8]   \n"
     ]
    },
    {
     "name": "stdout",
     "output_type": "stream",
     "text": [
      "Epoch 43: Train MSE = 2943.7097, Val MSE = 873.9017\n"
     ]
    },
    {
     "name": "stderr",
     "output_type": "stream",
     "text": [
      "Epoch 44/50 [Train]: 100%|██████████| 409/409 [01:52<00:00,  3.63it/s, loss=74.1]   \n",
      "Epoch 44/50 [Val]: 100%|██████████| 24/24 [00:02<00:00,  8.27it/s, loss=7.81]   \n"
     ]
    },
    {
     "name": "stdout",
     "output_type": "stream",
     "text": [
      "Epoch 44: Train MSE = 2945.6055, Val MSE = 581.7308\n"
     ]
    },
    {
     "name": "stderr",
     "output_type": "stream",
     "text": [
      "Epoch 45/50 [Train]: 100%|██████████| 409/409 [01:52<00:00,  3.64it/s, loss=54.7]   \n",
      "Epoch 45/50 [Val]: 100%|██████████| 24/24 [00:02<00:00,  8.34it/s, loss=21.1]   \n"
     ]
    },
    {
     "name": "stdout",
     "output_type": "stream",
     "text": [
      "Epoch 45: Train MSE = 2813.8032, Val MSE = 582.0959\n"
     ]
    },
    {
     "name": "stderr",
     "output_type": "stream",
     "text": [
      "Epoch 46/50 [Train]: 100%|██████████| 409/409 [01:52<00:00,  3.63it/s, loss=120]    \n",
      "Epoch 46/50 [Val]: 100%|██████████| 24/24 [00:02<00:00,  8.42it/s, loss=2.73]   \n"
     ]
    },
    {
     "name": "stdout",
     "output_type": "stream",
     "text": [
      "Epoch 46: Train MSE = 2766.4563, Val MSE = 535.2958\n"
     ]
    },
    {
     "name": "stderr",
     "output_type": "stream",
     "text": [
      "Epoch 47/50 [Train]: 100%|██████████| 409/409 [01:52<00:00,  3.64it/s, loss=41.6]   \n",
      "Epoch 47/50 [Val]: 100%|██████████| 24/24 [00:02<00:00,  8.36it/s, loss=0.0714] \n"
     ]
    },
    {
     "name": "stdout",
     "output_type": "stream",
     "text": [
      "Epoch 47: Train MSE = 2808.7369, Val MSE = 565.2363\n"
     ]
    },
    {
     "name": "stderr",
     "output_type": "stream",
     "text": [
      "Epoch 48/50 [Train]: 100%|██████████| 409/409 [01:52<00:00,  3.64it/s, loss=88.9]   \n",
      "Epoch 48/50 [Val]: 100%|██████████| 24/24 [00:02<00:00,  8.24it/s, loss=1.57]   \n"
     ]
    },
    {
     "name": "stdout",
     "output_type": "stream",
     "text": [
      "Epoch 48: Train MSE = 2759.0069, Val MSE = 601.5069\n"
     ]
    },
    {
     "name": "stderr",
     "output_type": "stream",
     "text": [
      "Epoch 49/50 [Train]: 100%|██████████| 409/409 [01:52<00:00,  3.64it/s, loss=19.7]   \n",
      "Epoch 49/50 [Val]: 100%|██████████| 24/24 [00:02<00:00,  8.39it/s, loss=115]    \n"
     ]
    },
    {
     "name": "stdout",
     "output_type": "stream",
     "text": [
      "Epoch 49: Train MSE = 2836.8547, Val MSE = 584.0459\n"
     ]
    },
    {
     "name": "stderr",
     "output_type": "stream",
     "text": [
      "Epoch 50/50 [Train]: 100%|██████████| 409/409 [01:52<00:00,  3.64it/s, loss=74.2]   \n",
      "Epoch 50/50 [Val]: 100%|██████████| 24/24 [00:02<00:00,  8.43it/s, loss=39.2]   "
     ]
    },
    {
     "name": "stdout",
     "output_type": "stream",
     "text": [
      "Epoch 50: Train MSE = 2832.9895, Val MSE = 567.9119\n"
     ]
    },
    {
     "name": "stderr",
     "output_type": "stream",
     "text": [
      "\n"
     ]
    }
   ],
   "source": [
    "model = LatitudeRegressor()\n",
    "loss_fn = nn.MSELoss()\n",
    "optimizer = torch.optim.Adam(model.parameters(), lr=1e-3, weight_decay=0.05)\n",
    "train_regression_model(model, train_loader, val_loader, optimizer, num_epochs=50, device=device, loss_fn=loss_fn)\n"
   ]
  },
  {
   "cell_type": "code",
   "execution_count": 11,
   "metadata": {},
   "outputs": [
    {
     "name": "stderr",
     "output_type": "stream",
     "text": [
      "Evaluating: 100%|██████████| 24/24 [00:02<00:00,  8.37it/s]"
     ]
    },
    {
     "name": "stdout",
     "output_type": "stream",
     "text": [
      "Scaled MSE: 567.9119\n"
     ]
    },
    {
     "name": "stderr",
     "output_type": "stream",
     "text": [
      "\n"
     ]
    },
    {
     "ename": "KeyError",
     "evalue": "'unscaled_mse'",
     "output_type": "error",
     "traceback": [
      "\u001b[31m---------------------------------------------------------------------------\u001b[39m",
      "\u001b[31mKeyError\u001b[39m                                  Traceback (most recent call last)",
      "\u001b[36mCell\u001b[39m\u001b[36m \u001b[39m\u001b[32mIn[11]\u001b[39m\u001b[32m, line 4\u001b[39m\n\u001b[32m      2\u001b[39m results = evaluate_model(model, val_loader, device)\n\u001b[32m      3\u001b[39m \u001b[38;5;28mprint\u001b[39m(\u001b[33m\"\u001b[39m\u001b[33mScaled MSE:\u001b[39m\u001b[33m\"\u001b[39m, results[\u001b[33m'\u001b[39m\u001b[33mscaled_mse\u001b[39m\u001b[33m'\u001b[39m])\n\u001b[32m----> \u001b[39m\u001b[32m4\u001b[39m \u001b[38;5;28mprint\u001b[39m(\u001b[33m\"\u001b[39m\u001b[33mUnscaled MSE:\u001b[39m\u001b[33m\"\u001b[39m, \u001b[43mresults\u001b[49m\u001b[43m[\u001b[49m\u001b[33;43m'\u001b[39;49m\u001b[33;43munscaled_mse\u001b[39;49m\u001b[33;43m'\u001b[39;49m\u001b[43m]\u001b[49m)\n",
      "\u001b[31mKeyError\u001b[39m: 'unscaled_mse'"
     ]
    }
   ],
   "source": [
    "# Evaluate the model on the validation set\n",
    "results = evaluate_model(model, val_loader, device)\n",
    "print(\"Scaled MSE:\", results['scaled_mse'])\n",
    "print(\"Unscaled MSE:\", results['unscaled_mse'])"
   ]
  },
  {
   "cell_type": "code",
   "execution_count": null,
   "metadata": {},
   "outputs": [
    {
     "name": "stdout",
     "output_type": "stream",
     "text": [
      "Mean Angle Error: 30.8790 degrees\n",
      "Median Angle Error: 19.3219 degrees\n",
      "MSE (sin/cos): 0.4744\n"
     ]
    }
   ],
   "source": [
    "# Load the best model for evaluation\n",
    "\n",
    "model_ev = LatitudeRegressor()\n",
    "model_ev.to(device)\n",
    "model_ev.load_state_dict(torch.load('best_model.pth'))\n",
    "\n",
    "# Evaluate the model on the validation set\n",
    "results = evaluate_model(model_ev, val_loader, device)\n",
    "print(f\"Mean Angle Error: {results['mean_angle_error']:.4f} degrees\")\n",
    "print(f\"Median Angle Error: {results['median_angle_error']:.4f} degrees\")\n",
    "print(f\"MSE (sin/cos): {results['mse_sin_cos']:.4f}\")"
   ]
  }
 ],
 "metadata": {
  "kernelspec": {
   "display_name": "Python 3",
   "language": "python",
   "name": "python3"
  },
  "language_info": {
   "codemirror_mode": {
    "name": "ipython",
    "version": 3
   },
   "file_extension": ".py",
   "mimetype": "text/x-python",
   "name": "python",
   "nbconvert_exporter": "python",
   "pygments_lexer": "ipython3",
   "version": "3.13.2"
  }
 },
 "nbformat": 4,
 "nbformat_minor": 2
}
